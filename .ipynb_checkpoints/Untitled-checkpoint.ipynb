{
 "cells": [
  {
   "cell_type": "markdown",
   "metadata": {},
   "source": [
    "### loc and iloc are row,column fomat when accessing . E.g df.iloc[row1,column10] Normal python behaviour: df[column1, row10]. for iloc and loc, negative indexing means start from tail end of data e.g df.iloc[-5:] gives last 5 entries\n",
    "### can also do label based searching in loc\n",
    "### df.loc[0, 'colname']\n",
    "### iloc treats dataset as big matrix\n",
    "### iloc uses exclusive indexing so 0:10 selects 0...9 and loc has inclusive indexing so 0:10 selects 0...10\n",
    "### change index of df using df.set_index(\"index\")\n",
    "\n",
    "### and condition: df.loc[(x==1) & y==2)]\n",
    "### or condition: df.loc[(x==1) | (y==2)]\n",
    "### in contion as in python : df.loc[ df.colname.isin(collist)]\n",
    "### isnull and notnull() : df.loc[df.colname.isnull], df.loc[df.colname.notnull()]\n"
   ]
  },
  {
   "cell_type": "code",
   "execution_count": 2,
   "metadata": {},
   "outputs": [],
   "source": [
    "import pandas as pd"
   ]
  },
  {
   "cell_type": "code",
   "execution_count": null,
   "metadata": {},
   "outputs": [],
   "source": []
  }
 ],
 "metadata": {
  "kernelspec": {
   "display_name": "Python 3",
   "language": "python",
   "name": "python3"
  },
  "language_info": {
   "codemirror_mode": {
    "name": "ipython",
    "version": 3
   },
   "file_extension": ".py",
   "mimetype": "text/x-python",
   "name": "python",
   "nbconvert_exporter": "python",
   "pygments_lexer": "ipython3",
   "version": "3.6.9"
  }
 },
 "nbformat": 4,
 "nbformat_minor": 4
}
